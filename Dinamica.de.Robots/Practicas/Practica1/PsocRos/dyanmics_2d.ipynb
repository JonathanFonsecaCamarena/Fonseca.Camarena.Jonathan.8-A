{
 "cells": [
  {
   "cell_type": "code",
   "execution_count": 28,
   "metadata": {},
   "outputs": [],
   "source": [
    "import numpy as np\n",
    "import matplotlib\n",
    "\n",
    "# define parameters .. notes we have equal k and c values for the springs\n",
    "damper_c = 5.5\n",
    "spring_k = -30.5\n",
    "mass = 1.7 #kg \n",
    "vertabrae_inertia = 1 #\n",
    "\n",
    "# Define the attachment points. The first row corresponds to the middle attachment point.\n",
    "# The second row corresponds to the top attachement point and third is bottom attachment point.\n",
    "\n",
    "bar_length = 0.5 # meters\n",
    "s1 = np.array([0,0])\n",
    "s2 = np.array([-bar_length, bar_length])\n",
    "s3 = np.array([-bar_length, -bar_length])\n",
    "\n",
    "S_matrix = np.array([s1, s2, s3])\n",
    "\n",
    "# final_positions = [x, y, theta]\n",
    "# force_vector = [n1 - s1, n1 - s2, n2 - s1, n2 - s3] (calculated using Drews)\n",
    "def input_vector(force_vector, final_positions, s = S_matrix, k = spring_k, barlength = 0.5) :\n",
    "    x = final_positions[0]\n",
    "    y = final_positions[1]\n",
    "    th = final_positions[2]\n",
    "\n",
    "    s1 = s[0,:]\n",
    "    s2 = s[1,:]\n",
    "    s3 = s[2,:]\n",
    "    \n",
    "    print(s1, s2,s3)\n",
    "    # define nodes\n",
    "    n1 = np.array([x + np.cos(2 * np.pi/3 + th) * barlength, y + np.sin(2 * np.pi/ 3 + th) * barlength])\n",
    "    n2 = np.array([x + np.cos(-2 * np.pi/ 3 + th) * barlength, y + np.sin(-2 * np.pi/ 3 + th) * barlength])\n",
    "    l2_dist_vector = np.array([np.linalg.norm(np.array(n1 - s1)), \n",
    "                               np.linalg.norm(np.array(n1 - s2)), \n",
    "                               np.linalg.norm(np.array(n2 - s1)), \n",
    "                               np.linalg.norm(np.array(n2 - s3))])\n",
    "    kay = np.ones(4) * 1/k\n",
    "    K_inv = np.diag(kay)\n",
    "    \n",
    "    return l2_dist_vector - np.dot(force_vector, K_inv)\n",
    "\n",
    "# helper function used to compute force component ... they all have similar structure.\n",
    "def force_component(direction, ddt_node, node, u, att, k = spring_k, c = damper_c) :\n",
    "    spring_comp = k * (np.linalg.norm(node - att) - u)\n",
    "    damping_comp = - c * ((node[0] - att[0]) * ddt_node[0] + (node[1] - att[1]) * ddt_node[1]) / np.linalg.norm(node - att)\n",
    "    if (direction == True) : # X component\n",
    "        direction_comp = (node[0] - att[0]) / np.linalg.norm(node - att)\n",
    "    else :\n",
    "        direction_comp = (node[1] - att[1]) / np.linalg.norm(node - att)\n",
    "    return direction_comp * (spring_comp + damping_comp)\n",
    "\n",
    "# returns the acceleration terms\n",
    "    \"\"\"nodes, derivated of nodes, the current position as the center of mass, inputs, attachmenent points\"\"\"\n",
    "def eqn_motion(nodes, ddt_Nodes, current_position, inputs, g, att1 = s1, att2 = s2, att3 = s3, m = 1.7) :\n",
    "    u1 = inputs[0]\n",
    "    u2 = inputs[1]\n",
    "    u3 = inputs[2]\n",
    "    u4 = inputs[3]\n",
    "    \n",
    "    node1 = nodes[0,:]\n",
    "    node2 = nodes[1,:]\n",
    "    \n",
    "    # define for x direction\n",
    "    node1_rel = nodes[0,:] - current_position\n",
    "    node2_rel = nodes[1,:] - current_position\n",
    "    \n",
    "    # assign node_ddt\n",
    "    ddt_node1 = ddt_Nodes[0,:]\n",
    "    ddt_node2 = ddt_Nodes[1,:]\n",
    "    \n",
    "    x1t = force_component(True, ddt_node1, node1, u1, att1)\n",
    "    x2t = force_component(True, ddt_node1, node1, u2, att2)\n",
    "    x3t = force_component(True, ddt_node2, node2, u3, att1)\n",
    "    x4t = force_component(True, ddt_node2, node2, u4, att3)\n",
    "    \n",
    "    x_acc = 1 / m * (x1t + x2t + x3t + x4t)\n",
    "    \n",
    "    y1t = force_component(False, ddt_node1, node1, u1, att1) \n",
    "    y2t = force_component(False, ddt_node1, node1, u2, att2)\n",
    "    y3t = force_component(False, ddt_node2, node2, u3, att1)\n",
    "    y4t = force_component(False, ddt_node2, node2, u4, att3)\n",
    "    y_acc = 1 / m *(y1t + y2t + y3t +y4t) - g\n",
    "    \n",
    "    pt1 = node1_rel[0] * (force_component(False, ddt_node1, node1, u1, att1) +  force_component(False, ddt_node1, node1, u2, att2))\n",
    "    pt2 =  node2_rel[0] * (force_component(False, ddt_node2, node2, u3, att1) + force_component(False, ddt_node2, node2, u4, att3))\n",
    "    pt3 = - node1_rel[1] * (force_component(True, ddt_node1, node1, u1, att1) + force_component(True, ddt_node1, node1, u2, att2))\n",
    "    pt4 = - node2_rel[1] * (force_component(True, ddt_node2, node2, u3, att1) + force_component(True, ddt_node2, node2, u4, att3))\n",
    "    psi_acc =  pt1 + pt2 + pt3 + pt4\n",
    "                \n",
    "    return x_acc, y_acc, psi_acc\n",
    "\n",
    "# Intialize: Compute the node terms, derivates based on relative frame and pass into eqn_motion\n",
    "#            to get acceleration terms\n",
    "def initialize(initial_state, inputs, g,  barlength = 0.5, delta =2 * np.pi / 3) :\n",
    "    x1 = initial_state[0]\n",
    "    x1dot = initial_state[1]\n",
    "    x2 = initial_state[2]\n",
    "    x2dot = initial_state[3]\n",
    "    theta = initial_state[4]\n",
    "    thetadot = initial_state[5]\n",
    "    \n",
    "    # Node positions\n",
    "    n1 = np.array([x1 + barlength * np.cos(delta + theta), x2 + barlength * np.sin(delta + theta)])\n",
    "    n2 = np.array([x1 + barlength * np.cos(-delta + theta), x2 + barlength * np.sin(-delta + theta)])\n",
    "\n",
    "    n1_dot = np.array([x1dot - barlength * np.sin(delta + theta) * thetadot,\n",
    "                       x2dot + barlength * np.cos(delta + theta) * thetadot])\n",
    "    # Node derivates\n",
    "    n2_dot = np.array([x1dot - barlength * np.sin(-delta + theta) * thetadot,\n",
    "                       x2dot + barlength * np.cos(-delta + theta) * thetadot])\n",
    "        \n",
    "    # Nodes matrix, center of mass (to pass in to eqn of motion method)\n",
    "    Nodes = np.array([n1, n2])\n",
    "    com = np.array([x1, x2])\n",
    "    ddt_Nodes = np.array([n1_dot, n2_dot])\n",
    "    \n",
    "    return eqn_motion(Nodes, ddt_Nodes, com, inputs, g)\n",
    "    \n",
    "def euler_integration(states_initial, x1_ddot, x2_ddot, psi_ddot, dt, t, inputs, g) :\n",
    "    \n",
    "    N = int(t / dt)\n",
    "    print(N)\n",
    "    state_matrix = np.zeros((N + 1,6))\n",
    "    state_matrix[0,:] = states_initial\n",
    "    # update states\n",
    "    for i in range(N):\n",
    "        psi_dot_next = states_initial[5] + dt * psi_ddot\n",
    "        x2_dot_next = states_initial[3] + dt * x2_ddot\n",
    "        x1_dot_next = states_initial[1] + dt* x1_ddot\n",
    "\n",
    "        x1_next = states_initial[0] + 1 / 2 * dt* x1_dot_next\n",
    "        x2_next = states_initial[2] + 1/2 * dt * x2_dot_next\n",
    "        psi_next = states_initial[4] + 1/2 * dt * psi_dot_next\n",
    "\n",
    "        states_initial = np.array([x1_next, x1_dot_next, x2_next, x2_dot_next, psi_next, psi_dot_next])\n",
    "        state_matrix[i + 1, :] = states_initial\n",
    "\n",
    "        # Compute acceleration based on new \n",
    "\n",
    "        x1_ddot, x2_ddot, psi_ddot = initialize(states_initial, inputs, g)\n",
    "        state_matrix[i + 1,:] = states_initial\n",
    "    return state_matrix\n",
    "    \n",
    "    "
   ]
  },
  {
   "cell_type": "code",
   "execution_count": 43,
   "metadata": {},
   "outputs": [
    {
     "name": "stdout",
     "output_type": "stream",
     "text": [
      "[0. 0.] [-0.5  0.5] [-0.5 -0.5]\n",
      "7.057847332424141 6.874292575121357 -5.227859159787939\n"
     ]
    }
   ],
   "source": [
    "# Define initial States\n",
    "# x, xdot, y, ydot, psi, psidot\n",
    "\n",
    "# if init and final pos are the same with 0 inirtial forces then the inital acc should be zero\n",
    "bar_length = 0.5\n",
    "init = np.array([bar_length, 0, 0, 0, 0, 0])\n",
    "final_pos = np.array([bar_length + 0.1, 0.3, 0])\n",
    "#final_pos = np.array([bar_length - 0.2, -.2, 0])\n",
    "force_initial = np.array([0, 0, 0, 0])\n",
    "\n",
    "inputs = input_vector(force_initial, final_pos)\n",
    "\n",
    "# compute the initial acceleration terms\n",
    "\n",
    "ddotx1, ddotx2, ddotpsi = initialize(init, inputs, 0)\n",
    "print(ddotx1, ddotx2, ddotpsi)\n",
    "\n",
    "# at time = 0\n"
   ]
  },
  {
   "cell_type": "code",
   "execution_count": 44,
   "metadata": {},
   "outputs": [
    {
     "name": "stdout",
     "output_type": "stream",
     "text": [
      "2000\n"
     ]
    }
   ],
   "source": [
    "simulations = euler_integration(init, ddotx1, ddotx2, ddotpsi, 0.01, 20, inputs, 9.81)"
   ]
  },
  {
   "cell_type": "code",
   "execution_count": 46,
   "metadata": {},
   "outputs": [
    {
     "name": "stdout",
     "output_type": "stream",
     "text": [
      "(2001, 6)\n"
     ]
    },
    {
     "data": {
      "image/png": "[encoded data removed]",
      "text/plain": [
       "<Figure size 432x288 with 1 Axes>"
      ]
     },
     "metadata": {
      "needs_background": "light"
     },
     "output_type": "display_data"
    }
   ],
   "source": [
    "# x\n",
    "import matplotlib.pyplot as plt\n",
    "x = simulations[:,0]\n",
    "y = simulations[:,2]\n",
    "th = simulations[:, 4]\n",
    "\n",
    "print(simulations.shape)\n",
    "xx = plt.plot(x)\n",
    "yy = plt.plot(y)\n",
    "thth = plt.plot(th)\n",
    "\n",
    "plt.legend(('X position', 'Y position', 'Theta position'), loc='upper right')\n",
    "\n",
    "plt.xlabel('Time (ms)')\n",
    "plt.ylabel('Position (m)')\n",
    "plt.title('Spine State Response')\n",
    "\n",
    "\n",
    "plt.show()"
   ]
  },
  {
   "cell_type": "code",
   "execution_count": null,
   "metadata": {},
   "outputs": [],
   "source": []
  },
  {
   "cell_type": "code",
   "execution_count": null,
   "metadata": {},
   "outputs": [],
   "source": []
  }
 ],
 "metadata": {
  "kernelspec": {
   "display_name": "Python 3",
   "language": "python",
   "name": "python3"
  },
  "language_info": {
   "codemirror_mode": {
    "name": "ipython",
    "version": 3
   },
   "file_extension": ".py",
   "mimetype": "text/x-python",
   "name": "python",
   "nbconvert_exporter": "python",
   "pygments_lexer": "ipython3",
   "version": "3.7.1"
  }
 },
 "nbformat": 4,
 "nbformat_minor": 2
}
